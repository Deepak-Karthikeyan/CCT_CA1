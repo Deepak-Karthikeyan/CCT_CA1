{
 "cells": [
  {
   "cell_type": "markdown",
   "id": "6c67d3a9-8ef2-4f7d-85f3-f37117e6777d",
   "metadata": {},
   "source": [
    "# DATA PREPARATION"
   ]
  },
  {
   "cell_type": "markdown",
   "id": "ab2b0f6a-404e-40bb-b0f1-97c4c4336ae9",
   "metadata": {},
   "source": [
    "### Importing Libraries"
   ]
  },
  {
   "cell_type": "code",
   "execution_count": 3,
   "id": "4f37e4ba-3c02-42d9-9d30-5628e1ec2824",
   "metadata": {},
   "outputs": [],
   "source": [
    "import pandas as pd"
   ]
  },
  {
   "cell_type": "markdown",
   "id": "180996e3-ca10-4d9b-93ec-1fb809d93979",
   "metadata": {},
   "source": [
    "### Ingesting Datasets"
   ]
  },
  {
   "cell_type": "markdown",
   "id": "e7198942-9f5e-4889-b16b-ad13930a18b7",
   "metadata": {},
   "source": [
    "Loading the dataset is the first step in data preparation. It bring the data into a structured format for further analysis and manipulation.\n",
    "\n",
    "I am ingesting two datasets, namely **TMQ20** and **Trips per Quarter**, taken from the [data.cso.ie](https://data.cso.ie) site. \n",
    "\n",
    "- The **TMQ20** dataset contains the following columns:\n",
    "  - Area of Residence\n",
    "  - Reason for Journey\n",
    "  - Average Length of Stay\n",
    "  - Expenditure\n",
    "  - Percentage of Trips\n",
    "  - Year\n",
    "\n",
    "- The **Trips per Quarter** dataset contains the following columns:\n",
    "  - Year\n",
    "  - Period\n",
    "  - All Trips\n",
    "  - Irish Residents Trips Overseas\n",
    "  - Trips to Ireland\n",
    "  - Great Britain\n",
    "  - Other Europe\n",
    "  - USA and Canada\n",
    "  - Other Areas"
   ]
  },
  {
   "cell_type": "code",
   "execution_count": 6,
   "id": "7927fa5d-8bef-4f0c-ab0e-220b2d1a7653",
   "metadata": {},
   "outputs": [],
   "source": [
    "main_data = pd.read_csv(r\"D:\\CCT Learnings\\Git\\CCT_CA1\\Dataset\\TMQ20.csv\")"
   ]
  },
  {
   "cell_type": "code",
   "execution_count": 7,
   "id": "4bc47dde-aec6-443b-9a14-880065c6ba3f",
   "metadata": {},
   "outputs": [],
   "source": [
    "trips_quarter = pd.read_csv(r\"D:\\CCT Learnings\\Git\\CCT_CA1\\Dataset\\Trips per Quarter.csv\")"
   ]
  },
  {
   "cell_type": "markdown",
   "id": "86c020a6-630f-48ba-9b0e-6550d6b34387",
   "metadata": {},
   "source": [
    "### Display the first 5 rows of the Datasets"
   ]
  },
  {
   "cell_type": "markdown",
   "id": "73837f13-8aef-474c-919b-67cf15ff7d79",
   "metadata": {},
   "source": [
    "It provides a quick snapshot of the dataset's structure, including column names and the type of data stored in each column."
   ]
  },
  {
   "cell_type": "code",
   "execution_count": 10,
   "id": "0eaaa5d6-d42e-42e0-b7fe-c70b994b6001",
   "metadata": {},
   "outputs": [
    {
     "data": {
      "text/html": [
       "<div>\n",
       "<style scoped>\n",
       "    .dataframe tbody tr th:only-of-type {\n",
       "        vertical-align: middle;\n",
       "    }\n",
       "\n",
       "    .dataframe tbody tr th {\n",
       "        vertical-align: top;\n",
       "    }\n",
       "\n",
       "    .dataframe thead th {\n",
       "        text-align: right;\n",
       "    }\n",
       "</style>\n",
       "<table border=\"1\" class=\"dataframe\">\n",
       "  <thead>\n",
       "    <tr style=\"text-align: right;\">\n",
       "      <th></th>\n",
       "      <th>Area of Residence</th>\n",
       "      <th>Reason for Journey</th>\n",
       "      <th>Quarter</th>\n",
       "      <th>Statistic Label</th>\n",
       "      <th>UNIT</th>\n",
       "      <th>VALUE</th>\n",
       "    </tr>\n",
       "  </thead>\n",
       "  <tbody>\n",
       "    <tr>\n",
       "      <th>0</th>\n",
       "      <td>All Countries</td>\n",
       "      <td>All reasons for journey</td>\n",
       "      <td>2012Q1</td>\n",
       "      <td>Average Length of Stay by Overseas Travellers ...</td>\n",
       "      <td>Nights</td>\n",
       "      <td>6.8</td>\n",
       "    </tr>\n",
       "    <tr>\n",
       "      <th>1</th>\n",
       "      <td>All Countries</td>\n",
       "      <td>All reasons for journey</td>\n",
       "      <td>2012Q1</td>\n",
       "      <td>Expenditure by Overseas Travellers in Ireland ...</td>\n",
       "      <td>Euro Million</td>\n",
       "      <td>483.0</td>\n",
       "    </tr>\n",
       "    <tr>\n",
       "      <th>2</th>\n",
       "      <td>All Countries</td>\n",
       "      <td>All reasons for journey</td>\n",
       "      <td>2012Q1</td>\n",
       "      <td>Overseas Trips to Ireland by Non-Residents, wi...</td>\n",
       "      <td>%</td>\n",
       "      <td>100.0</td>\n",
       "    </tr>\n",
       "    <tr>\n",
       "      <th>3</th>\n",
       "      <td>All Countries</td>\n",
       "      <td>All reasons for journey</td>\n",
       "      <td>2012Q2</td>\n",
       "      <td>Average Length of Stay by Overseas Travellers ...</td>\n",
       "      <td>Nights</td>\n",
       "      <td>7.0</td>\n",
       "    </tr>\n",
       "    <tr>\n",
       "      <th>4</th>\n",
       "      <td>All Countries</td>\n",
       "      <td>All reasons for journey</td>\n",
       "      <td>2012Q2</td>\n",
       "      <td>Expenditure by Overseas Travellers in Ireland ...</td>\n",
       "      <td>Euro Million</td>\n",
       "      <td>816.0</td>\n",
       "    </tr>\n",
       "  </tbody>\n",
       "</table>\n",
       "</div>"
      ],
      "text/plain": [
       "  Area of Residence       Reason for Journey Quarter  \\\n",
       "0     All Countries  All reasons for journey  2012Q1   \n",
       "1     All Countries  All reasons for journey  2012Q1   \n",
       "2     All Countries  All reasons for journey  2012Q1   \n",
       "3     All Countries  All reasons for journey  2012Q2   \n",
       "4     All Countries  All reasons for journey  2012Q2   \n",
       "\n",
       "                                     Statistic Label          UNIT  VALUE  \n",
       "0  Average Length of Stay by Overseas Travellers ...        Nights    6.8  \n",
       "1  Expenditure by Overseas Travellers in Ireland ...  Euro Million  483.0  \n",
       "2  Overseas Trips to Ireland by Non-Residents, wi...             %  100.0  \n",
       "3  Average Length of Stay by Overseas Travellers ...        Nights    7.0  \n",
       "4  Expenditure by Overseas Travellers in Ireland ...  Euro Million  816.0  "
      ]
     },
     "execution_count": 10,
     "metadata": {},
     "output_type": "execute_result"
    }
   ],
   "source": [
    "main_data.head()"
   ]
  },
  {
   "cell_type": "code",
   "execution_count": 11,
   "id": "f782c34c-0029-4573-aa5e-0f97a0917c24",
   "metadata": {},
   "outputs": [
    {
     "data": {
      "text/html": [
       "<div>\n",
       "<style scoped>\n",
       "    .dataframe tbody tr th:only-of-type {\n",
       "        vertical-align: middle;\n",
       "    }\n",
       "\n",
       "    .dataframe tbody tr th {\n",
       "        vertical-align: top;\n",
       "    }\n",
       "\n",
       "    .dataframe thead th {\n",
       "        text-align: right;\n",
       "    }\n",
       "</style>\n",
       "<table border=\"1\" class=\"dataframe\">\n",
       "  <thead>\n",
       "    <tr style=\"text-align: right;\">\n",
       "      <th></th>\n",
       "      <th>Year</th>\n",
       "      <th>Period</th>\n",
       "      <th>All Trips</th>\n",
       "      <th>Irish Residents Trips Overseas</th>\n",
       "      <th>Trips to Ireland</th>\n",
       "      <th>Great Britain</th>\n",
       "      <th>Othe Europe</th>\n",
       "      <th>USA and Canada</th>\n",
       "      <th>Other Areas</th>\n",
       "    </tr>\n",
       "  </thead>\n",
       "  <tbody>\n",
       "    <tr>\n",
       "      <th>0</th>\n",
       "      <td>2012.0</td>\n",
       "      <td>Quarter 1</td>\n",
       "      <td>23,99,900</td>\n",
       "      <td>12,34,800</td>\n",
       "      <td>11,65,100</td>\n",
       "      <td>5,62,400</td>\n",
       "      <td>3,92,800</td>\n",
       "      <td>1,44,700</td>\n",
       "      <td>65,200</td>\n",
       "    </tr>\n",
       "    <tr>\n",
       "      <th>1</th>\n",
       "      <td>2012.0</td>\n",
       "      <td>Quarter 2</td>\n",
       "      <td>35,44,700</td>\n",
       "      <td>17,27,500</td>\n",
       "      <td>18,17,300</td>\n",
       "      <td>7,35,200</td>\n",
       "      <td>6,72,400</td>\n",
       "      <td>3,05,700</td>\n",
       "      <td>1,04,000</td>\n",
       "    </tr>\n",
       "    <tr>\n",
       "      <th>2</th>\n",
       "      <td>2012.0</td>\n",
       "      <td>Quarter 3</td>\n",
       "      <td>40,99,900</td>\n",
       "      <td>20,03,200</td>\n",
       "      <td>20,96,700</td>\n",
       "      <td>8,30,200</td>\n",
       "      <td>7,76,800</td>\n",
       "      <td>3,65,200</td>\n",
       "      <td>1,24,500</td>\n",
       "    </tr>\n",
       "    <tr>\n",
       "      <th>3</th>\n",
       "      <td>2012.0</td>\n",
       "      <td>Quarter 4</td>\n",
       "      <td>27,98,400</td>\n",
       "      <td>13,60,400</td>\n",
       "      <td>14,38,000</td>\n",
       "      <td>6,46,400</td>\n",
       "      <td>5,05,400</td>\n",
       "      <td>2,01,300</td>\n",
       "      <td>85,000</td>\n",
       "    </tr>\n",
       "    <tr>\n",
       "      <th>4</th>\n",
       "      <td>2012.0</td>\n",
       "      <td>Total</td>\n",
       "      <td>1,28,42,900</td>\n",
       "      <td>63,25,800</td>\n",
       "      <td>65,17,200</td>\n",
       "      <td>27,74,200</td>\n",
       "      <td>23,47,400</td>\n",
       "      <td>10,16,900</td>\n",
       "      <td>3,78,600</td>\n",
       "    </tr>\n",
       "  </tbody>\n",
       "</table>\n",
       "</div>"
      ],
      "text/plain": [
       "     Year     Period    All Trips Irish Residents Trips Overseas  \\\n",
       "0  2012.0  Quarter 1    23,99,900                      12,34,800   \n",
       "1  2012.0  Quarter 2    35,44,700                      17,27,500   \n",
       "2  2012.0  Quarter 3    40,99,900                      20,03,200   \n",
       "3  2012.0  Quarter 4    27,98,400                      13,60,400   \n",
       "4  2012.0      Total  1,28,42,900                      63,25,800   \n",
       "\n",
       "  Trips to Ireland Great Britain Othe Europe USA and Canada Other Areas  \n",
       "0        11,65,100      5,62,400    3,92,800       1,44,700      65,200  \n",
       "1        18,17,300      7,35,200    6,72,400       3,05,700    1,04,000  \n",
       "2        20,96,700      8,30,200    7,76,800       3,65,200    1,24,500  \n",
       "3        14,38,000      6,46,400    5,05,400       2,01,300      85,000  \n",
       "4        65,17,200     27,74,200   23,47,400      10,16,900    3,78,600  "
      ]
     },
     "execution_count": 11,
     "metadata": {},
     "output_type": "execute_result"
    }
   ],
   "source": [
    "trips_quarter.head()"
   ]
  },
  {
   "cell_type": "markdown",
   "id": "8f8cdc94-cf4c-4689-80ee-b2bd32b9842e",
   "metadata": {},
   "source": [
    "### Summary information about the datasets"
   ]
  },
  {
   "cell_type": "markdown",
   "id": "73e591e4-b3e5-487e-a953-157ce35ebe5c",
   "metadata": {},
   "source": [
    "Summary of the dataset, including columns, data types, missing values, and memory usage."
   ]
  },
  {
   "cell_type": "code",
   "execution_count": 14,
   "id": "cf149f86-a0fc-47d6-8e87-fa9b0d73ff31",
   "metadata": {},
   "outputs": [
    {
     "name": "stdout",
     "output_type": "stream",
     "text": [
      "<class 'pandas.core.frame.DataFrame'>\n",
      "RangeIndex: 3840 entries, 0 to 3839\n",
      "Data columns (total 6 columns):\n",
      " #   Column              Non-Null Count  Dtype  \n",
      "---  ------              --------------  -----  \n",
      " 0   Area of Residence   3840 non-null   object \n",
      " 1   Reason for Journey  3840 non-null   object \n",
      " 2   Quarter             3840 non-null   object \n",
      " 3   Statistic Label     3840 non-null   object \n",
      " 4   UNIT                3840 non-null   object \n",
      " 5   VALUE               3840 non-null   float64\n",
      "dtypes: float64(1), object(5)\n",
      "memory usage: 180.1+ KB\n"
     ]
    }
   ],
   "source": [
    "main_data.info()"
   ]
  },
  {
   "cell_type": "code",
   "execution_count": 15,
   "id": "894e36bd-4fa6-478e-958c-f6063aa350ec",
   "metadata": {},
   "outputs": [
    {
     "name": "stdout",
     "output_type": "stream",
     "text": [
      "<class 'pandas.core.frame.DataFrame'>\n",
      "RangeIndex: 41 entries, 0 to 40\n",
      "Data columns (total 9 columns):\n",
      " #   Column                          Non-Null Count  Dtype  \n",
      "---  ------                          --------------  -----  \n",
      " 0   Year                            40 non-null     float64\n",
      " 1   Period                          40 non-null     object \n",
      " 2   All Trips                       40 non-null     object \n",
      " 3   Irish Residents Trips Overseas  40 non-null     object \n",
      " 4   Trips to Ireland                40 non-null     object \n",
      " 5   Great Britain                   40 non-null     object \n",
      " 6   Othe Europe                     40 non-null     object \n",
      " 7   USA and Canada                  40 non-null     object \n",
      " 8   Other Areas                     40 non-null     object \n",
      "dtypes: float64(1), object(8)\n",
      "memory usage: 3.0+ KB\n"
     ]
    }
   ],
   "source": [
    "trips_quarter.info()"
   ]
  },
  {
   "cell_type": "markdown",
   "id": "fb557735-2679-4b81-86d5-386a618c6115",
   "metadata": {},
   "source": [
    "### Descriptive statistics of the dataset"
   ]
  },
  {
   "cell_type": "markdown",
   "id": "83369987-6528-4f7e-95fc-5b9e2cc1a143",
   "metadata": {},
   "source": [
    "Summary statistics (e.g., count, mean, std, min, max) for numerical columns in the dataset."
   ]
  },
  {
   "cell_type": "code",
   "execution_count": 18,
   "id": "9a7af8d7-bc27-45e7-8921-3184595800cc",
   "metadata": {},
   "outputs": [
    {
     "data": {
      "text/html": [
       "<div>\n",
       "<style scoped>\n",
       "    .dataframe tbody tr th:only-of-type {\n",
       "        vertical-align: middle;\n",
       "    }\n",
       "\n",
       "    .dataframe tbody tr th {\n",
       "        vertical-align: top;\n",
       "    }\n",
       "\n",
       "    .dataframe thead th {\n",
       "        text-align: right;\n",
       "    }\n",
       "</style>\n",
       "<table border=\"1\" class=\"dataframe\">\n",
       "  <thead>\n",
       "    <tr style=\"text-align: right;\">\n",
       "      <th></th>\n",
       "      <th>VALUE</th>\n",
       "    </tr>\n",
       "  </thead>\n",
       "  <tbody>\n",
       "    <tr>\n",
       "      <th>count</th>\n",
       "      <td>3840.000000</td>\n",
       "    </tr>\n",
       "    <tr>\n",
       "      <th>mean</th>\n",
       "      <td>46.485911</td>\n",
       "    </tr>\n",
       "    <tr>\n",
       "      <th>std</th>\n",
       "      <td>128.569965</td>\n",
       "    </tr>\n",
       "    <tr>\n",
       "      <th>min</th>\n",
       "      <td>0.500000</td>\n",
       "    </tr>\n",
       "    <tr>\n",
       "      <th>25%</th>\n",
       "      <td>6.400000</td>\n",
       "    </tr>\n",
       "    <tr>\n",
       "      <th>50%</th>\n",
       "      <td>10.500000</td>\n",
       "    </tr>\n",
       "    <tr>\n",
       "      <th>75%</th>\n",
       "      <td>33.725000</td>\n",
       "    </tr>\n",
       "    <tr>\n",
       "      <th>max</th>\n",
       "      <td>1832.000000</td>\n",
       "    </tr>\n",
       "  </tbody>\n",
       "</table>\n",
       "</div>"
      ],
      "text/plain": [
       "             VALUE\n",
       "count  3840.000000\n",
       "mean     46.485911\n",
       "std     128.569965\n",
       "min       0.500000\n",
       "25%       6.400000\n",
       "50%      10.500000\n",
       "75%      33.725000\n",
       "max    1832.000000"
      ]
     },
     "execution_count": 18,
     "metadata": {},
     "output_type": "execute_result"
    }
   ],
   "source": [
    "main_data.describe()"
   ]
  },
  {
   "cell_type": "code",
   "execution_count": 19,
   "id": "1524a066-b3d3-4d5b-8113-d04ab84525d5",
   "metadata": {},
   "outputs": [
    {
     "data": {
      "text/html": [
       "<div>\n",
       "<style scoped>\n",
       "    .dataframe tbody tr th:only-of-type {\n",
       "        vertical-align: middle;\n",
       "    }\n",
       "\n",
       "    .dataframe tbody tr th {\n",
       "        vertical-align: top;\n",
       "    }\n",
       "\n",
       "    .dataframe thead th {\n",
       "        text-align: right;\n",
       "    }\n",
       "</style>\n",
       "<table border=\"1\" class=\"dataframe\">\n",
       "  <thead>\n",
       "    <tr style=\"text-align: right;\">\n",
       "      <th></th>\n",
       "      <th>Year</th>\n",
       "    </tr>\n",
       "  </thead>\n",
       "  <tbody>\n",
       "    <tr>\n",
       "      <th>count</th>\n",
       "      <td>40.000000</td>\n",
       "    </tr>\n",
       "    <tr>\n",
       "      <th>mean</th>\n",
       "      <td>2015.500000</td>\n",
       "    </tr>\n",
       "    <tr>\n",
       "      <th>std</th>\n",
       "      <td>2.320477</td>\n",
       "    </tr>\n",
       "    <tr>\n",
       "      <th>min</th>\n",
       "      <td>2012.000000</td>\n",
       "    </tr>\n",
       "    <tr>\n",
       "      <th>25%</th>\n",
       "      <td>2013.750000</td>\n",
       "    </tr>\n",
       "    <tr>\n",
       "      <th>50%</th>\n",
       "      <td>2015.500000</td>\n",
       "    </tr>\n",
       "    <tr>\n",
       "      <th>75%</th>\n",
       "      <td>2017.250000</td>\n",
       "    </tr>\n",
       "    <tr>\n",
       "      <th>max</th>\n",
       "      <td>2019.000000</td>\n",
       "    </tr>\n",
       "  </tbody>\n",
       "</table>\n",
       "</div>"
      ],
      "text/plain": [
       "              Year\n",
       "count    40.000000\n",
       "mean   2015.500000\n",
       "std       2.320477\n",
       "min    2012.000000\n",
       "25%    2013.750000\n",
       "50%    2015.500000\n",
       "75%    2017.250000\n",
       "max    2019.000000"
      ]
     },
     "execution_count": 19,
     "metadata": {},
     "output_type": "execute_result"
    }
   ],
   "source": [
    "trips_quarter.describe()"
   ]
  },
  {
   "cell_type": "markdown",
   "id": "189ad684-21ee-4f06-bfcf-a74aace4579d",
   "metadata": {},
   "source": [
    "### Data Manipulation and Feature Engineering [TMQ20] dataset"
   ]
  },
  {
   "cell_type": "markdown",
   "id": "6c56ce96-74d9-4731-8787-642b1f023655",
   "metadata": {},
   "source": [
    "The **TMQ20** dataset contains a column labeled `Statistic Label`, which comprises three distinct values:  \n",
    "1. **'Average Length of Stay by Overseas Travellers to Ireland'**,  \n",
    "2. **'Expenditure by Overseas Travellers in Ireland (excluding fares)'**, and  \n",
    "3. **'Overseas Trips to Ireland by Non-Residents, with at least one overnight in Ireland'**.  \n",
    "\n",
    "To enhance clarity and simplify the dataset for analysis, these values will be pivoted into separate columns. Each unique value in the `Statistic Label` column will be transformed into an individual column, with their corresponding data points mapped accordingly and dropping `UNIT` column. The new columns will be renamed for simplicity and ease of interpretation."
   ]
  },
  {
   "cell_type": "code",
   "execution_count": 22,
   "id": "9eea3bd7-4d6d-453f-8388-cf1f46ea34ca",
   "metadata": {},
   "outputs": [],
   "source": [
    "main_data = main_data.drop(columns=['UNIT'], axis=1)"
   ]
  },
  {
   "cell_type": "code",
   "execution_count": 23,
   "id": "ccf15e33-c291-4fd7-97f0-b7dbf6c5be4e",
   "metadata": {},
   "outputs": [],
   "source": [
    "main_data_pivot = main_data.pivot(index=['Area of Residence', 'Reason for Journey', 'Quarter'], \n",
    "                                          columns='Statistic Label', \n",
    "                                          values='VALUE',).reset_index()"
   ]
  },
  {
   "cell_type": "code",
   "execution_count": 24,
   "id": "8776d6eb-dd1f-4526-ae87-4fdf27fba664",
   "metadata": {},
   "outputs": [],
   "source": [
    "main_data_pivot.rename(columns={\"Average Length of Stay by Overseas Travellers to Ireland\": \"Avg Length of Stay\",\n",
    "                               \"Expenditure by Overseas Travellers in Ireland (excluding fares)\": \"Expenditure\",\n",
    "                               \"Overseas Trips to Ireland by Non-Residents, with at least one overnight in Ireland\":\"Overseas Trip Percentage\"}, inplace=True)"
   ]
  },
  {
   "cell_type": "code",
   "execution_count": 25,
   "id": "95abeb0d-7f7f-4b1e-ac21-50b46194c19a",
   "metadata": {},
   "outputs": [],
   "source": [
    "main_data_pivot.columns.name = None"
   ]
  },
  {
   "cell_type": "code",
   "execution_count": 26,
   "id": "e6e0a333-c9c3-4838-bed4-118a8164ad8a",
   "metadata": {},
   "outputs": [],
   "source": [
    "main_data_pivot['Year'] = main_data_pivot['Quarter'].str[:4]\n",
    "main_data_pivot['Quarter'] = main_data_pivot['Quarter'].str[-1]"
   ]
  },
  {
   "cell_type": "code",
   "execution_count": 27,
   "id": "2c200333-3ddd-453f-bddc-308cf48af037",
   "metadata": {},
   "outputs": [],
   "source": [
    "reindex = ['Year', 'Quarter', 'Area of Residence', 'Reason for Journey', 'Avg Length of Stay', 'Expenditure', 'Overseas Trip Percentage']\n",
    "\n",
    "main_data_pivot = main_data_pivot.reindex(columns= reindex)"
   ]
  },
  {
   "cell_type": "code",
   "execution_count": 28,
   "id": "4d3d7e10-f5f9-41d0-9151-f7bd5c5c1b15",
   "metadata": {},
   "outputs": [],
   "source": [
    "main_data_pivot[\"Year\"] = main_data_pivot[\"Year\"].astype(int)\n",
    "main_data_pivot[\"Quarter\"] = main_data_pivot[\"Quarter\"].astype(int)"
   ]
  },
  {
   "cell_type": "markdown",
   "id": "dfcd3385-4765-456f-a85e-c5aaeec5dad8",
   "metadata": {},
   "source": [
    "### Display the first 5 rows of the Pivoted Dataset"
   ]
  },
  {
   "cell_type": "code",
   "execution_count": 30,
   "id": "10f4581e-5287-49f1-b92f-e13f87a8af8f",
   "metadata": {},
   "outputs": [
    {
     "data": {
      "text/html": [
       "<div>\n",
       "<style scoped>\n",
       "    .dataframe tbody tr th:only-of-type {\n",
       "        vertical-align: middle;\n",
       "    }\n",
       "\n",
       "    .dataframe tbody tr th {\n",
       "        vertical-align: top;\n",
       "    }\n",
       "\n",
       "    .dataframe thead th {\n",
       "        text-align: right;\n",
       "    }\n",
       "</style>\n",
       "<table border=\"1\" class=\"dataframe\">\n",
       "  <thead>\n",
       "    <tr style=\"text-align: right;\">\n",
       "      <th></th>\n",
       "      <th>Year</th>\n",
       "      <th>Quarter</th>\n",
       "      <th>Area of Residence</th>\n",
       "      <th>Reason for Journey</th>\n",
       "      <th>Avg Length of Stay</th>\n",
       "      <th>Expenditure</th>\n",
       "      <th>Overseas Trip Percentage</th>\n",
       "    </tr>\n",
       "  </thead>\n",
       "  <tbody>\n",
       "    <tr>\n",
       "      <th>0</th>\n",
       "      <td>2012</td>\n",
       "      <td>1</td>\n",
       "      <td>All Countries</td>\n",
       "      <td>All reasons for journey</td>\n",
       "      <td>6.8</td>\n",
       "      <td>483.0</td>\n",
       "      <td>100.0</td>\n",
       "    </tr>\n",
       "    <tr>\n",
       "      <th>1</th>\n",
       "      <td>2012</td>\n",
       "      <td>2</td>\n",
       "      <td>All Countries</td>\n",
       "      <td>All reasons for journey</td>\n",
       "      <td>7.0</td>\n",
       "      <td>816.0</td>\n",
       "      <td>100.0</td>\n",
       "    </tr>\n",
       "    <tr>\n",
       "      <th>2</th>\n",
       "      <td>2012</td>\n",
       "      <td>3</td>\n",
       "      <td>All Countries</td>\n",
       "      <td>All reasons for journey</td>\n",
       "      <td>8.1</td>\n",
       "      <td>994.0</td>\n",
       "      <td>100.0</td>\n",
       "    </tr>\n",
       "    <tr>\n",
       "      <th>3</th>\n",
       "      <td>2012</td>\n",
       "      <td>4</td>\n",
       "      <td>All Countries</td>\n",
       "      <td>All reasons for journey</td>\n",
       "      <td>7.2</td>\n",
       "      <td>622.0</td>\n",
       "      <td>100.0</td>\n",
       "    </tr>\n",
       "    <tr>\n",
       "      <th>4</th>\n",
       "      <td>2013</td>\n",
       "      <td>1</td>\n",
       "      <td>All Countries</td>\n",
       "      <td>All reasons for journey</td>\n",
       "      <td>6.7</td>\n",
       "      <td>541.0</td>\n",
       "      <td>100.0</td>\n",
       "    </tr>\n",
       "  </tbody>\n",
       "</table>\n",
       "</div>"
      ],
      "text/plain": [
       "   Year  Quarter Area of Residence       Reason for Journey  \\\n",
       "0  2012        1     All Countries  All reasons for journey   \n",
       "1  2012        2     All Countries  All reasons for journey   \n",
       "2  2012        3     All Countries  All reasons for journey   \n",
       "3  2012        4     All Countries  All reasons for journey   \n",
       "4  2013        1     All Countries  All reasons for journey   \n",
       "\n",
       "   Avg Length of Stay  Expenditure  Overseas Trip Percentage  \n",
       "0                 6.8        483.0                     100.0  \n",
       "1                 7.0        816.0                     100.0  \n",
       "2                 8.1        994.0                     100.0  \n",
       "3                 7.2        622.0                     100.0  \n",
       "4                 6.7        541.0                     100.0  "
      ]
     },
     "execution_count": 30,
     "metadata": {},
     "output_type": "execute_result"
    }
   ],
   "source": [
    "main_data_pivot.head()"
   ]
  },
  {
   "cell_type": "markdown",
   "id": "ebcc1198-f4a4-46ea-aa50-4d2a46b3b89d",
   "metadata": {},
   "source": [
    "### Descriptive statistics of the pivoted dataset"
   ]
  },
  {
   "cell_type": "code",
   "execution_count": 32,
   "id": "d9889c52-5b92-4362-b614-19f601dffd7b",
   "metadata": {},
   "outputs": [
    {
     "data": {
      "text/html": [
       "<div>\n",
       "<style scoped>\n",
       "    .dataframe tbody tr th:only-of-type {\n",
       "        vertical-align: middle;\n",
       "    }\n",
       "\n",
       "    .dataframe tbody tr th {\n",
       "        vertical-align: top;\n",
       "    }\n",
       "\n",
       "    .dataframe thead th {\n",
       "        text-align: right;\n",
       "    }\n",
       "</style>\n",
       "<table border=\"1\" class=\"dataframe\">\n",
       "  <thead>\n",
       "    <tr style=\"text-align: right;\">\n",
       "      <th></th>\n",
       "      <th>Year</th>\n",
       "      <th>Quarter</th>\n",
       "      <th>Avg Length of Stay</th>\n",
       "      <th>Expenditure</th>\n",
       "      <th>Overseas Trip Percentage</th>\n",
       "    </tr>\n",
       "  </thead>\n",
       "  <tbody>\n",
       "    <tr>\n",
       "      <th>count</th>\n",
       "      <td>1280.000000</td>\n",
       "      <td>1280.000000</td>\n",
       "      <td>1280.000000</td>\n",
       "      <td>1280.000000</td>\n",
       "      <td>1280.000000</td>\n",
       "    </tr>\n",
       "    <tr>\n",
       "      <th>mean</th>\n",
       "      <td>2015.500000</td>\n",
       "      <td>2.500000</td>\n",
       "      <td>9.336641</td>\n",
       "      <td>105.121875</td>\n",
       "      <td>24.999219</td>\n",
       "    </tr>\n",
       "    <tr>\n",
       "      <th>std</th>\n",
       "      <td>2.292183</td>\n",
       "      <td>1.118471</td>\n",
       "      <td>6.216477</td>\n",
       "      <td>208.178900</td>\n",
       "      <td>30.909652</td>\n",
       "    </tr>\n",
       "    <tr>\n",
       "      <th>min</th>\n",
       "      <td>2012.000000</td>\n",
       "      <td>1.000000</td>\n",
       "      <td>0.500000</td>\n",
       "      <td>1.000000</td>\n",
       "      <td>1.000000</td>\n",
       "    </tr>\n",
       "    <tr>\n",
       "      <th>25%</th>\n",
       "      <td>2013.750000</td>\n",
       "      <td>1.750000</td>\n",
       "      <td>5.900000</td>\n",
       "      <td>12.000000</td>\n",
       "      <td>6.000000</td>\n",
       "    </tr>\n",
       "    <tr>\n",
       "      <th>50%</th>\n",
       "      <td>2015.500000</td>\n",
       "      <td>2.500000</td>\n",
       "      <td>7.700000</td>\n",
       "      <td>37.000000</td>\n",
       "      <td>11.000000</td>\n",
       "    </tr>\n",
       "    <tr>\n",
       "      <th>75%</th>\n",
       "      <td>2017.250000</td>\n",
       "      <td>3.250000</td>\n",
       "      <td>10.225000</td>\n",
       "      <td>106.250000</td>\n",
       "      <td>27.000000</td>\n",
       "    </tr>\n",
       "    <tr>\n",
       "      <th>max</th>\n",
       "      <td>2019.000000</td>\n",
       "      <td>4.000000</td>\n",
       "      <td>49.400000</td>\n",
       "      <td>1832.000000</td>\n",
       "      <td>100.000000</td>\n",
       "    </tr>\n",
       "  </tbody>\n",
       "</table>\n",
       "</div>"
      ],
      "text/plain": [
       "              Year      Quarter  Avg Length of Stay  Expenditure  \\\n",
       "count  1280.000000  1280.000000         1280.000000  1280.000000   \n",
       "mean   2015.500000     2.500000            9.336641   105.121875   \n",
       "std       2.292183     1.118471            6.216477   208.178900   \n",
       "min    2012.000000     1.000000            0.500000     1.000000   \n",
       "25%    2013.750000     1.750000            5.900000    12.000000   \n",
       "50%    2015.500000     2.500000            7.700000    37.000000   \n",
       "75%    2017.250000     3.250000           10.225000   106.250000   \n",
       "max    2019.000000     4.000000           49.400000  1832.000000   \n",
       "\n",
       "       Overseas Trip Percentage  \n",
       "count               1280.000000  \n",
       "mean                  24.999219  \n",
       "std                   30.909652  \n",
       "min                    1.000000  \n",
       "25%                    6.000000  \n",
       "50%                   11.000000  \n",
       "75%                   27.000000  \n",
       "max                  100.000000  "
      ]
     },
     "execution_count": 32,
     "metadata": {},
     "output_type": "execute_result"
    }
   ],
   "source": [
    "main_data_pivot.describe()"
   ]
  },
  {
   "cell_type": "code",
   "execution_count": 33,
   "id": "edf59ec5-334e-4a1b-bb3b-303af35fcb75",
   "metadata": {},
   "outputs": [
    {
     "name": "stdout",
     "output_type": "stream",
     "text": [
      "<class 'pandas.core.frame.DataFrame'>\n",
      "RangeIndex: 1280 entries, 0 to 1279\n",
      "Data columns (total 7 columns):\n",
      " #   Column                    Non-Null Count  Dtype  \n",
      "---  ------                    --------------  -----  \n",
      " 0   Year                      1280 non-null   int32  \n",
      " 1   Quarter                   1280 non-null   int32  \n",
      " 2   Area of Residence         1280 non-null   object \n",
      " 3   Reason for Journey        1280 non-null   object \n",
      " 4   Avg Length of Stay        1280 non-null   float64\n",
      " 5   Expenditure               1280 non-null   float64\n",
      " 6   Overseas Trip Percentage  1280 non-null   float64\n",
      "dtypes: float64(3), int32(2), object(2)\n",
      "memory usage: 60.1+ KB\n"
     ]
    }
   ],
   "source": [
    "main_data_pivot.info()"
   ]
  },
  {
   "cell_type": "markdown",
   "id": "fc8fb1b6-1e0b-4dab-b397-54bd44031dcd",
   "metadata": {},
   "source": [
    "### Data Manipulation and Feature Engineering [Trips per Quarter] dataset"
   ]
  },
  {
   "cell_type": "markdown",
   "id": "6997b608-1368-4b74-be2e-980f937aaed2",
   "metadata": {},
   "source": [
    "- In the **Trips per Quarter** dataset, the quarter number (1,2,3,4) will be extracted from the `Period` column into a new `Quarter` column, excluding the **Total** value and retaining only **Quarter1** to **Quarter4**.\n",
    "- The values in the `Year` column is of type String. Hence, Converting `Year` to integer for consistency.\n",
    "- The `Trips to Ireland` column will be converted from string format (with commas) to numeric format, and only the `Year`, `Period`, `Quarter` and `Trips to Ireland` columns will be kept to convert Overseas Trip Percentage column to actual numbers."
   ]
  },
  {
   "cell_type": "code",
   "execution_count": 36,
   "id": "f1582dfe-a1b5-4f96-8f97-9bd0199fa95d",
   "metadata": {},
   "outputs": [],
   "source": [
    "trips_quarter.drop(columns=['All Trips', 'Irish Residents Trips Overseas',\n",
    "                              'Great Britain', 'Othe Europe', 'USA and Canada',\n",
    "                              'Other Areas'], axis=1, inplace=True)"
   ]
  },
  {
   "cell_type": "code",
   "execution_count": 37,
   "id": "df126396-e5d4-45a2-8fd1-5c2f6d37a15b",
   "metadata": {},
   "outputs": [],
   "source": [
    "trips_quarter = trips_quarter[trips_quarter[\"Period\"].str.contains(\"Quarter\", na=False)].copy().reset_index()"
   ]
  },
  {
   "cell_type": "code",
   "execution_count": 38,
   "id": "008af045-8d31-4301-be39-2d72243f02b6",
   "metadata": {},
   "outputs": [],
   "source": [
    "trips_quarter.drop(columns=['index'], axis=1, inplace=True)"
   ]
  },
  {
   "cell_type": "code",
   "execution_count": 39,
   "id": "740d6bb5-bdf8-4823-a39d-ba362ab4a1b3",
   "metadata": {},
   "outputs": [],
   "source": [
    "trips_quarter[\"Year\"] = trips_quarter[\"Year\"].astype(int)"
   ]
  },
  {
   "cell_type": "code",
   "execution_count": 40,
   "id": "e24cbc6c-da00-46df-98a9-23ec5c510c13",
   "metadata": {},
   "outputs": [],
   "source": [
    "trips_quarter[\"Quarter\"] = trips_quarter[\"Period\"].str.extract(r'(\\d)').astype(int)"
   ]
  },
  {
   "cell_type": "code",
   "execution_count": 41,
   "id": "3c09b599-bec4-4ef5-9037-78e5ff8cf635",
   "metadata": {},
   "outputs": [],
   "source": [
    "trips_quarter.drop(columns=['Period'], axis=1, inplace=True)"
   ]
  },
  {
   "cell_type": "code",
   "execution_count": 42,
   "id": "a7d7baf6-d59a-44ab-9afe-7d93978700c8",
   "metadata": {},
   "outputs": [],
   "source": [
    "reindex_2 = ['Year', 'Quarter', 'Trips to Ireland']\n",
    "trips_quarter=trips_quarter.reindex(columns=reindex_2)"
   ]
  },
  {
   "cell_type": "code",
   "execution_count": 43,
   "id": "3013de69-c110-4780-a06f-dd1404573f2c",
   "metadata": {},
   "outputs": [],
   "source": [
    "trips_quarter['Trips to Ireland'] = trips_quarter['Trips to Ireland'].str.replace(\",\", \"\").astype(int)"
   ]
  },
  {
   "cell_type": "code",
   "execution_count": 44,
   "id": "b810d833-d8a3-461f-a23c-563e338b0271",
   "metadata": {},
   "outputs": [
    {
     "data": {
      "text/html": [
       "<div>\n",
       "<style scoped>\n",
       "    .dataframe tbody tr th:only-of-type {\n",
       "        vertical-align: middle;\n",
       "    }\n",
       "\n",
       "    .dataframe tbody tr th {\n",
       "        vertical-align: top;\n",
       "    }\n",
       "\n",
       "    .dataframe thead th {\n",
       "        text-align: right;\n",
       "    }\n",
       "</style>\n",
       "<table border=\"1\" class=\"dataframe\">\n",
       "  <thead>\n",
       "    <tr style=\"text-align: right;\">\n",
       "      <th></th>\n",
       "      <th>Year</th>\n",
       "      <th>Quarter</th>\n",
       "      <th>Trips to Ireland</th>\n",
       "    </tr>\n",
       "  </thead>\n",
       "  <tbody>\n",
       "    <tr>\n",
       "      <th>0</th>\n",
       "      <td>2012</td>\n",
       "      <td>1</td>\n",
       "      <td>1165100</td>\n",
       "    </tr>\n",
       "    <tr>\n",
       "      <th>1</th>\n",
       "      <td>2012</td>\n",
       "      <td>2</td>\n",
       "      <td>1817300</td>\n",
       "    </tr>\n",
       "    <tr>\n",
       "      <th>2</th>\n",
       "      <td>2012</td>\n",
       "      <td>3</td>\n",
       "      <td>2096700</td>\n",
       "    </tr>\n",
       "    <tr>\n",
       "      <th>3</th>\n",
       "      <td>2012</td>\n",
       "      <td>4</td>\n",
       "      <td>1438000</td>\n",
       "    </tr>\n",
       "    <tr>\n",
       "      <th>4</th>\n",
       "      <td>2013</td>\n",
       "      <td>1</td>\n",
       "      <td>1251700</td>\n",
       "    </tr>\n",
       "  </tbody>\n",
       "</table>\n",
       "</div>"
      ],
      "text/plain": [
       "   Year  Quarter  Trips to Ireland\n",
       "0  2012        1           1165100\n",
       "1  2012        2           1817300\n",
       "2  2012        3           2096700\n",
       "3  2012        4           1438000\n",
       "4  2013        1           1251700"
      ]
     },
     "execution_count": 44,
     "metadata": {},
     "output_type": "execute_result"
    }
   ],
   "source": [
    "trips_quarter.head()"
   ]
  },
  {
   "cell_type": "markdown",
   "id": "c718f3db-c9ba-48bc-8122-e4f58ec22987",
   "metadata": {},
   "source": [
    "### Descriptive statistics [Trips per Quarter] dataset"
   ]
  },
  {
   "cell_type": "code",
   "execution_count": 46,
   "id": "9191e00f-737b-4143-8324-5c25256d6fb2",
   "metadata": {},
   "outputs": [
    {
     "data": {
      "text/html": [
       "<div>\n",
       "<style scoped>\n",
       "    .dataframe tbody tr th:only-of-type {\n",
       "        vertical-align: middle;\n",
       "    }\n",
       "\n",
       "    .dataframe tbody tr th {\n",
       "        vertical-align: top;\n",
       "    }\n",
       "\n",
       "    .dataframe thead th {\n",
       "        text-align: right;\n",
       "    }\n",
       "</style>\n",
       "<table border=\"1\" class=\"dataframe\">\n",
       "  <thead>\n",
       "    <tr style=\"text-align: right;\">\n",
       "      <th></th>\n",
       "      <th>Year</th>\n",
       "      <th>Quarter</th>\n",
       "      <th>Trips to Ireland</th>\n",
       "    </tr>\n",
       "  </thead>\n",
       "  <tbody>\n",
       "    <tr>\n",
       "      <th>count</th>\n",
       "      <td>32.000000</td>\n",
       "      <td>32.000000</td>\n",
       "      <td>3.200000e+01</td>\n",
       "    </tr>\n",
       "    <tr>\n",
       "      <th>mean</th>\n",
       "      <td>2015.500000</td>\n",
       "      <td>2.500000</td>\n",
       "      <td>2.209075e+06</td>\n",
       "    </tr>\n",
       "    <tr>\n",
       "      <th>std</th>\n",
       "      <td>2.327951</td>\n",
       "      <td>1.135924</td>\n",
       "      <td>6.079913e+05</td>\n",
       "    </tr>\n",
       "    <tr>\n",
       "      <th>min</th>\n",
       "      <td>2012.000000</td>\n",
       "      <td>1.000000</td>\n",
       "      <td>1.165100e+06</td>\n",
       "    </tr>\n",
       "    <tr>\n",
       "      <th>25%</th>\n",
       "      <td>2013.750000</td>\n",
       "      <td>1.750000</td>\n",
       "      <td>1.793250e+06</td>\n",
       "    </tr>\n",
       "    <tr>\n",
       "      <th>50%</th>\n",
       "      <td>2015.500000</td>\n",
       "      <td>2.500000</td>\n",
       "      <td>2.132900e+06</td>\n",
       "    </tr>\n",
       "    <tr>\n",
       "      <th>75%</th>\n",
       "      <td>2017.250000</td>\n",
       "      <td>3.250000</td>\n",
       "      <td>2.641525e+06</td>\n",
       "    </tr>\n",
       "    <tr>\n",
       "      <th>max</th>\n",
       "      <td>2019.000000</td>\n",
       "      <td>4.000000</td>\n",
       "      <td>3.334400e+06</td>\n",
       "    </tr>\n",
       "  </tbody>\n",
       "</table>\n",
       "</div>"
      ],
      "text/plain": [
       "              Year    Quarter  Trips to Ireland\n",
       "count    32.000000  32.000000      3.200000e+01\n",
       "mean   2015.500000   2.500000      2.209075e+06\n",
       "std       2.327951   1.135924      6.079913e+05\n",
       "min    2012.000000   1.000000      1.165100e+06\n",
       "25%    2013.750000   1.750000      1.793250e+06\n",
       "50%    2015.500000   2.500000      2.132900e+06\n",
       "75%    2017.250000   3.250000      2.641525e+06\n",
       "max    2019.000000   4.000000      3.334400e+06"
      ]
     },
     "execution_count": 46,
     "metadata": {},
     "output_type": "execute_result"
    }
   ],
   "source": [
    "trips_quarter.describe()"
   ]
  },
  {
   "cell_type": "code",
   "execution_count": 47,
   "id": "7a302b2e-02f2-4e60-b28d-05afba6a8b8a",
   "metadata": {},
   "outputs": [
    {
     "name": "stdout",
     "output_type": "stream",
     "text": [
      "<class 'pandas.core.frame.DataFrame'>\n",
      "RangeIndex: 32 entries, 0 to 31\n",
      "Data columns (total 3 columns):\n",
      " #   Column            Non-Null Count  Dtype\n",
      "---  ------            --------------  -----\n",
      " 0   Year              32 non-null     int32\n",
      " 1   Quarter           32 non-null     int32\n",
      " 2   Trips to Ireland  32 non-null     int32\n",
      "dtypes: int32(3)\n",
      "memory usage: 516.0 bytes\n"
     ]
    }
   ],
   "source": [
    "trips_quarter.info()"
   ]
  },
  {
   "cell_type": "markdown",
   "id": "4db679a0-36aa-4bd1-8b25-f61aadfeef3a",
   "metadata": {},
   "source": [
    "### Merging two datasets"
   ]
  },
  {
   "cell_type": "code",
   "execution_count": 49,
   "id": "57a40fa1-d9e8-4b94-a906-32cc2c5b8cb9",
   "metadata": {},
   "outputs": [],
   "source": [
    "merged_data = pd.merge(main_data_pivot, trips_quarter, on=[\"Year\", \"Quarter\"], how=\"inner\")"
   ]
  },
  {
   "cell_type": "code",
   "execution_count": 50,
   "id": "795edbdd-6c7b-4507-9702-4705ca5bfb0d",
   "metadata": {},
   "outputs": [
    {
     "data": {
      "text/html": [
       "<div>\n",
       "<style scoped>\n",
       "    .dataframe tbody tr th:only-of-type {\n",
       "        vertical-align: middle;\n",
       "    }\n",
       "\n",
       "    .dataframe tbody tr th {\n",
       "        vertical-align: top;\n",
       "    }\n",
       "\n",
       "    .dataframe thead th {\n",
       "        text-align: right;\n",
       "    }\n",
       "</style>\n",
       "<table border=\"1\" class=\"dataframe\">\n",
       "  <thead>\n",
       "    <tr style=\"text-align: right;\">\n",
       "      <th></th>\n",
       "      <th>Year</th>\n",
       "      <th>Quarter</th>\n",
       "      <th>Area of Residence</th>\n",
       "      <th>Reason for Journey</th>\n",
       "      <th>Avg Length of Stay</th>\n",
       "      <th>Expenditure</th>\n",
       "      <th>Overseas Trip Percentage</th>\n",
       "      <th>Trips to Ireland</th>\n",
       "    </tr>\n",
       "  </thead>\n",
       "  <tbody>\n",
       "    <tr>\n",
       "      <th>0</th>\n",
       "      <td>2012</td>\n",
       "      <td>1</td>\n",
       "      <td>All Countries</td>\n",
       "      <td>All reasons for journey</td>\n",
       "      <td>6.8</td>\n",
       "      <td>483.0</td>\n",
       "      <td>100.0</td>\n",
       "      <td>1165100</td>\n",
       "    </tr>\n",
       "    <tr>\n",
       "      <th>1</th>\n",
       "      <td>2012</td>\n",
       "      <td>2</td>\n",
       "      <td>All Countries</td>\n",
       "      <td>All reasons for journey</td>\n",
       "      <td>7.0</td>\n",
       "      <td>816.0</td>\n",
       "      <td>100.0</td>\n",
       "      <td>1817300</td>\n",
       "    </tr>\n",
       "    <tr>\n",
       "      <th>2</th>\n",
       "      <td>2012</td>\n",
       "      <td>3</td>\n",
       "      <td>All Countries</td>\n",
       "      <td>All reasons for journey</td>\n",
       "      <td>8.1</td>\n",
       "      <td>994.0</td>\n",
       "      <td>100.0</td>\n",
       "      <td>2096700</td>\n",
       "    </tr>\n",
       "    <tr>\n",
       "      <th>3</th>\n",
       "      <td>2012</td>\n",
       "      <td>4</td>\n",
       "      <td>All Countries</td>\n",
       "      <td>All reasons for journey</td>\n",
       "      <td>7.2</td>\n",
       "      <td>622.0</td>\n",
       "      <td>100.0</td>\n",
       "      <td>1438000</td>\n",
       "    </tr>\n",
       "    <tr>\n",
       "      <th>4</th>\n",
       "      <td>2013</td>\n",
       "      <td>1</td>\n",
       "      <td>All Countries</td>\n",
       "      <td>All reasons for journey</td>\n",
       "      <td>6.7</td>\n",
       "      <td>541.0</td>\n",
       "      <td>100.0</td>\n",
       "      <td>1251700</td>\n",
       "    </tr>\n",
       "  </tbody>\n",
       "</table>\n",
       "</div>"
      ],
      "text/plain": [
       "   Year  Quarter Area of Residence       Reason for Journey  \\\n",
       "0  2012        1     All Countries  All reasons for journey   \n",
       "1  2012        2     All Countries  All reasons for journey   \n",
       "2  2012        3     All Countries  All reasons for journey   \n",
       "3  2012        4     All Countries  All reasons for journey   \n",
       "4  2013        1     All Countries  All reasons for journey   \n",
       "\n",
       "   Avg Length of Stay  Expenditure  Overseas Trip Percentage  Trips to Ireland  \n",
       "0                 6.8        483.0                     100.0           1165100  \n",
       "1                 7.0        816.0                     100.0           1817300  \n",
       "2                 8.1        994.0                     100.0           2096700  \n",
       "3                 7.2        622.0                     100.0           1438000  \n",
       "4                 6.7        541.0                     100.0           1251700  "
      ]
     },
     "execution_count": 50,
     "metadata": {},
     "output_type": "execute_result"
    }
   ],
   "source": [
    "merged_data.head()"
   ]
  },
  {
   "cell_type": "markdown",
   "id": "bf5460eb-d09c-4f64-bfd2-da89f9ed0874",
   "metadata": {},
   "source": [
    "### Descriptive statistics Merged dataset"
   ]
  },
  {
   "cell_type": "code",
   "execution_count": 52,
   "id": "91f00dcf-a8d3-4713-a51b-0ca49f1f01ca",
   "metadata": {},
   "outputs": [
    {
     "data": {
      "text/html": [
       "<div>\n",
       "<style scoped>\n",
       "    .dataframe tbody tr th:only-of-type {\n",
       "        vertical-align: middle;\n",
       "    }\n",
       "\n",
       "    .dataframe tbody tr th {\n",
       "        vertical-align: top;\n",
       "    }\n",
       "\n",
       "    .dataframe thead th {\n",
       "        text-align: right;\n",
       "    }\n",
       "</style>\n",
       "<table border=\"1\" class=\"dataframe\">\n",
       "  <thead>\n",
       "    <tr style=\"text-align: right;\">\n",
       "      <th></th>\n",
       "      <th>Year</th>\n",
       "      <th>Quarter</th>\n",
       "      <th>Avg Length of Stay</th>\n",
       "      <th>Expenditure</th>\n",
       "      <th>Overseas Trip Percentage</th>\n",
       "      <th>Trips to Ireland</th>\n",
       "    </tr>\n",
       "  </thead>\n",
       "  <tbody>\n",
       "    <tr>\n",
       "      <th>count</th>\n",
       "      <td>1280.000000</td>\n",
       "      <td>1280.000000</td>\n",
       "      <td>1280.000000</td>\n",
       "      <td>1280.000000</td>\n",
       "      <td>1280.000000</td>\n",
       "      <td>1.280000e+03</td>\n",
       "    </tr>\n",
       "    <tr>\n",
       "      <th>mean</th>\n",
       "      <td>2015.500000</td>\n",
       "      <td>2.500000</td>\n",
       "      <td>9.336641</td>\n",
       "      <td>105.121875</td>\n",
       "      <td>24.999219</td>\n",
       "      <td>2.209075e+06</td>\n",
       "    </tr>\n",
       "    <tr>\n",
       "      <th>std</th>\n",
       "      <td>2.292183</td>\n",
       "      <td>1.118471</td>\n",
       "      <td>6.216477</td>\n",
       "      <td>208.178900</td>\n",
       "      <td>30.909652</td>\n",
       "      <td>5.986499e+05</td>\n",
       "    </tr>\n",
       "    <tr>\n",
       "      <th>min</th>\n",
       "      <td>2012.000000</td>\n",
       "      <td>1.000000</td>\n",
       "      <td>0.500000</td>\n",
       "      <td>1.000000</td>\n",
       "      <td>1.000000</td>\n",
       "      <td>1.165100e+06</td>\n",
       "    </tr>\n",
       "    <tr>\n",
       "      <th>25%</th>\n",
       "      <td>2013.750000</td>\n",
       "      <td>1.750000</td>\n",
       "      <td>5.900000</td>\n",
       "      <td>12.000000</td>\n",
       "      <td>6.000000</td>\n",
       "      <td>1.793250e+06</td>\n",
       "    </tr>\n",
       "    <tr>\n",
       "      <th>50%</th>\n",
       "      <td>2015.500000</td>\n",
       "      <td>2.500000</td>\n",
       "      <td>7.700000</td>\n",
       "      <td>37.000000</td>\n",
       "      <td>11.000000</td>\n",
       "      <td>2.132900e+06</td>\n",
       "    </tr>\n",
       "    <tr>\n",
       "      <th>75%</th>\n",
       "      <td>2017.250000</td>\n",
       "      <td>3.250000</td>\n",
       "      <td>10.225000</td>\n",
       "      <td>106.250000</td>\n",
       "      <td>27.000000</td>\n",
       "      <td>2.641525e+06</td>\n",
       "    </tr>\n",
       "    <tr>\n",
       "      <th>max</th>\n",
       "      <td>2019.000000</td>\n",
       "      <td>4.000000</td>\n",
       "      <td>49.400000</td>\n",
       "      <td>1832.000000</td>\n",
       "      <td>100.000000</td>\n",
       "      <td>3.334400e+06</td>\n",
       "    </tr>\n",
       "  </tbody>\n",
       "</table>\n",
       "</div>"
      ],
      "text/plain": [
       "              Year      Quarter  Avg Length of Stay  Expenditure  \\\n",
       "count  1280.000000  1280.000000         1280.000000  1280.000000   \n",
       "mean   2015.500000     2.500000            9.336641   105.121875   \n",
       "std       2.292183     1.118471            6.216477   208.178900   \n",
       "min    2012.000000     1.000000            0.500000     1.000000   \n",
       "25%    2013.750000     1.750000            5.900000    12.000000   \n",
       "50%    2015.500000     2.500000            7.700000    37.000000   \n",
       "75%    2017.250000     3.250000           10.225000   106.250000   \n",
       "max    2019.000000     4.000000           49.400000  1832.000000   \n",
       "\n",
       "       Overseas Trip Percentage  Trips to Ireland  \n",
       "count               1280.000000      1.280000e+03  \n",
       "mean                  24.999219      2.209075e+06  \n",
       "std                   30.909652      5.986499e+05  \n",
       "min                    1.000000      1.165100e+06  \n",
       "25%                    6.000000      1.793250e+06  \n",
       "50%                   11.000000      2.132900e+06  \n",
       "75%                   27.000000      2.641525e+06  \n",
       "max                  100.000000      3.334400e+06  "
      ]
     },
     "execution_count": 52,
     "metadata": {},
     "output_type": "execute_result"
    }
   ],
   "source": [
    "merged_data.describe()"
   ]
  },
  {
   "cell_type": "code",
   "execution_count": 53,
   "id": "80cd7a2e-2da5-4821-b602-a7e71b591334",
   "metadata": {},
   "outputs": [
    {
     "name": "stdout",
     "output_type": "stream",
     "text": [
      "<class 'pandas.core.frame.DataFrame'>\n",
      "RangeIndex: 1280 entries, 0 to 1279\n",
      "Data columns (total 8 columns):\n",
      " #   Column                    Non-Null Count  Dtype  \n",
      "---  ------                    --------------  -----  \n",
      " 0   Year                      1280 non-null   int32  \n",
      " 1   Quarter                   1280 non-null   int32  \n",
      " 2   Area of Residence         1280 non-null   object \n",
      " 3   Reason for Journey        1280 non-null   object \n",
      " 4   Avg Length of Stay        1280 non-null   float64\n",
      " 5   Expenditure               1280 non-null   float64\n",
      " 6   Overseas Trip Percentage  1280 non-null   float64\n",
      " 7   Trips to Ireland          1280 non-null   int32  \n",
      "dtypes: float64(3), int32(3), object(2)\n",
      "memory usage: 65.1+ KB\n"
     ]
    }
   ],
   "source": [
    "merged_data.info()"
   ]
  },
  {
   "cell_type": "markdown",
   "id": "945f2ac6-e3e6-43a3-a450-f0769a23acac",
   "metadata": {},
   "source": [
    "### Feature Engineering on the Merged dataset"
   ]
  },
  {
   "attachments": {
    "ca64303f-090a-4f0e-8535-81bce81067dd.png": {
     "image/png": "[encoded data removed]"
    }
   },
   "cell_type": "markdown",
   "id": "09c99a08-b565-4c68-b39e-ce39a19a9bd0",
   "metadata": {},
   "source": [
    "In the merged dataset, a new column named `Number of Trips` will be created by converting the percentage values from the `Overseas Trips Percentage` column into actual numbers. This calculation will be based on the corresponding values in the `Trips to Ireland` column.\n",
    "                                                    ![image.png](attachment:ca64303f-090a-4f0e-8535-81bce81067dd.png)"
   ]
  },
  {
   "cell_type": "code",
   "execution_count": 56,
   "id": "67f2a042-4f52-4b25-a92b-d52c9c1742e0",
   "metadata": {},
   "outputs": [],
   "source": [
    "merged_data[\"Number of Trips\"] = (merged_data[\"Overseas Trip Percentage\"] / 100) * merged_data[\"Trips to Ireland\"]"
   ]
  },
  {
   "cell_type": "code",
   "execution_count": 57,
   "id": "1cb9ebd4-5eb2-478f-9865-3ffda79ad61f",
   "metadata": {},
   "outputs": [],
   "source": [
    "merged_data = merged_data.rename(columns={'Trips to Ireland':'Total Trips'})"
   ]
  },
  {
   "cell_type": "code",
   "execution_count": 58,
   "id": "ebdb431b-afe6-4a65-8f2d-d33a1b8af91f",
   "metadata": {},
   "outputs": [
    {
     "data": {
      "text/html": [
       "<div>\n",
       "<style scoped>\n",
       "    .dataframe tbody tr th:only-of-type {\n",
       "        vertical-align: middle;\n",
       "    }\n",
       "\n",
       "    .dataframe tbody tr th {\n",
       "        vertical-align: top;\n",
       "    }\n",
       "\n",
       "    .dataframe thead th {\n",
       "        text-align: right;\n",
       "    }\n",
       "</style>\n",
       "<table border=\"1\" class=\"dataframe\">\n",
       "  <thead>\n",
       "    <tr style=\"text-align: right;\">\n",
       "      <th></th>\n",
       "      <th>Year</th>\n",
       "      <th>Quarter</th>\n",
       "      <th>Area of Residence</th>\n",
       "      <th>Reason for Journey</th>\n",
       "      <th>Avg Length of Stay</th>\n",
       "      <th>Expenditure</th>\n",
       "      <th>Overseas Trip Percentage</th>\n",
       "      <th>Total Trips</th>\n",
       "      <th>Number of Trips</th>\n",
       "    </tr>\n",
       "  </thead>\n",
       "  <tbody>\n",
       "    <tr>\n",
       "      <th>0</th>\n",
       "      <td>2012</td>\n",
       "      <td>1</td>\n",
       "      <td>All Countries</td>\n",
       "      <td>All reasons for journey</td>\n",
       "      <td>6.8</td>\n",
       "      <td>483.0</td>\n",
       "      <td>100.0</td>\n",
       "      <td>1165100</td>\n",
       "      <td>1165100.0</td>\n",
       "    </tr>\n",
       "    <tr>\n",
       "      <th>1</th>\n",
       "      <td>2012</td>\n",
       "      <td>2</td>\n",
       "      <td>All Countries</td>\n",
       "      <td>All reasons for journey</td>\n",
       "      <td>7.0</td>\n",
       "      <td>816.0</td>\n",
       "      <td>100.0</td>\n",
       "      <td>1817300</td>\n",
       "      <td>1817300.0</td>\n",
       "    </tr>\n",
       "    <tr>\n",
       "      <th>2</th>\n",
       "      <td>2012</td>\n",
       "      <td>3</td>\n",
       "      <td>All Countries</td>\n",
       "      <td>All reasons for journey</td>\n",
       "      <td>8.1</td>\n",
       "      <td>994.0</td>\n",
       "      <td>100.0</td>\n",
       "      <td>2096700</td>\n",
       "      <td>2096700.0</td>\n",
       "    </tr>\n",
       "    <tr>\n",
       "      <th>3</th>\n",
       "      <td>2012</td>\n",
       "      <td>4</td>\n",
       "      <td>All Countries</td>\n",
       "      <td>All reasons for journey</td>\n",
       "      <td>7.2</td>\n",
       "      <td>622.0</td>\n",
       "      <td>100.0</td>\n",
       "      <td>1438000</td>\n",
       "      <td>1438000.0</td>\n",
       "    </tr>\n",
       "    <tr>\n",
       "      <th>4</th>\n",
       "      <td>2013</td>\n",
       "      <td>1</td>\n",
       "      <td>All Countries</td>\n",
       "      <td>All reasons for journey</td>\n",
       "      <td>6.7</td>\n",
       "      <td>541.0</td>\n",
       "      <td>100.0</td>\n",
       "      <td>1251700</td>\n",
       "      <td>1251700.0</td>\n",
       "    </tr>\n",
       "  </tbody>\n",
       "</table>\n",
       "</div>"
      ],
      "text/plain": [
       "   Year  Quarter Area of Residence       Reason for Journey  \\\n",
       "0  2012        1     All Countries  All reasons for journey   \n",
       "1  2012        2     All Countries  All reasons for journey   \n",
       "2  2012        3     All Countries  All reasons for journey   \n",
       "3  2012        4     All Countries  All reasons for journey   \n",
       "4  2013        1     All Countries  All reasons for journey   \n",
       "\n",
       "   Avg Length of Stay  Expenditure  Overseas Trip Percentage  Total Trips  \\\n",
       "0                 6.8        483.0                     100.0      1165100   \n",
       "1                 7.0        816.0                     100.0      1817300   \n",
       "2                 8.1        994.0                     100.0      2096700   \n",
       "3                 7.2        622.0                     100.0      1438000   \n",
       "4                 6.7        541.0                     100.0      1251700   \n",
       "\n",
       "   Number of Trips  \n",
       "0        1165100.0  \n",
       "1        1817300.0  \n",
       "2        2096700.0  \n",
       "3        1438000.0  \n",
       "4        1251700.0  "
      ]
     },
     "execution_count": 58,
     "metadata": {},
     "output_type": "execute_result"
    }
   ],
   "source": [
    "merged_data.head()"
   ]
  },
  {
   "cell_type": "markdown",
   "id": "890e2363-a79c-4673-9d1d-524721af97fa",
   "metadata": {},
   "source": [
    "### Adding a new column 'Season'"
   ]
  },
  {
   "cell_type": "markdown",
   "id": "7cf09ce1-00ba-48a2-8b08-52ebbb922905",
   "metadata": {},
   "source": [
    "A new column named `Season` will be created in the dataset, mapping the quarter values as follows: Q1 to Winter, Q2 to Spring, Q3 to Summer, and Q4 to Autumn for seasonal analysis"
   ]
  },
  {
   "cell_type": "code",
   "execution_count": 61,
   "id": "f566d3b9-c07a-480f-b881-e68fd084e076",
   "metadata": {},
   "outputs": [],
   "source": [
    "season_map = {1 : 'Winter', 2 : 'Spring', 3 : 'Summer', 4 : 'Autumn'}\n",
    "\n",
    "merged_data['Season'] = merged_data['Quarter'].map(season_map)"
   ]
  },
  {
   "cell_type": "code",
   "execution_count": 62,
   "id": "18930dee-eb75-4967-b88d-973bad2631fd",
   "metadata": {},
   "outputs": [
    {
     "data": {
      "text/html": [
       "<div>\n",
       "<style scoped>\n",
       "    .dataframe tbody tr th:only-of-type {\n",
       "        vertical-align: middle;\n",
       "    }\n",
       "\n",
       "    .dataframe tbody tr th {\n",
       "        vertical-align: top;\n",
       "    }\n",
       "\n",
       "    .dataframe thead th {\n",
       "        text-align: right;\n",
       "    }\n",
       "</style>\n",
       "<table border=\"1\" class=\"dataframe\">\n",
       "  <thead>\n",
       "    <tr style=\"text-align: right;\">\n",
       "      <th></th>\n",
       "      <th>Year</th>\n",
       "      <th>Quarter</th>\n",
       "      <th>Area of Residence</th>\n",
       "      <th>Reason for Journey</th>\n",
       "      <th>Avg Length of Stay</th>\n",
       "      <th>Expenditure</th>\n",
       "      <th>Overseas Trip Percentage</th>\n",
       "      <th>Total Trips</th>\n",
       "      <th>Number of Trips</th>\n",
       "      <th>Season</th>\n",
       "    </tr>\n",
       "  </thead>\n",
       "  <tbody>\n",
       "    <tr>\n",
       "      <th>0</th>\n",
       "      <td>2012</td>\n",
       "      <td>1</td>\n",
       "      <td>All Countries</td>\n",
       "      <td>All reasons for journey</td>\n",
       "      <td>6.8</td>\n",
       "      <td>483.0</td>\n",
       "      <td>100.0</td>\n",
       "      <td>1165100</td>\n",
       "      <td>1165100.0</td>\n",
       "      <td>Winter</td>\n",
       "    </tr>\n",
       "    <tr>\n",
       "      <th>1</th>\n",
       "      <td>2012</td>\n",
       "      <td>2</td>\n",
       "      <td>All Countries</td>\n",
       "      <td>All reasons for journey</td>\n",
       "      <td>7.0</td>\n",
       "      <td>816.0</td>\n",
       "      <td>100.0</td>\n",
       "      <td>1817300</td>\n",
       "      <td>1817300.0</td>\n",
       "      <td>Spring</td>\n",
       "    </tr>\n",
       "    <tr>\n",
       "      <th>2</th>\n",
       "      <td>2012</td>\n",
       "      <td>3</td>\n",
       "      <td>All Countries</td>\n",
       "      <td>All reasons for journey</td>\n",
       "      <td>8.1</td>\n",
       "      <td>994.0</td>\n",
       "      <td>100.0</td>\n",
       "      <td>2096700</td>\n",
       "      <td>2096700.0</td>\n",
       "      <td>Summer</td>\n",
       "    </tr>\n",
       "    <tr>\n",
       "      <th>3</th>\n",
       "      <td>2012</td>\n",
       "      <td>4</td>\n",
       "      <td>All Countries</td>\n",
       "      <td>All reasons for journey</td>\n",
       "      <td>7.2</td>\n",
       "      <td>622.0</td>\n",
       "      <td>100.0</td>\n",
       "      <td>1438000</td>\n",
       "      <td>1438000.0</td>\n",
       "      <td>Autumn</td>\n",
       "    </tr>\n",
       "    <tr>\n",
       "      <th>4</th>\n",
       "      <td>2013</td>\n",
       "      <td>1</td>\n",
       "      <td>All Countries</td>\n",
       "      <td>All reasons for journey</td>\n",
       "      <td>6.7</td>\n",
       "      <td>541.0</td>\n",
       "      <td>100.0</td>\n",
       "      <td>1251700</td>\n",
       "      <td>1251700.0</td>\n",
       "      <td>Winter</td>\n",
       "    </tr>\n",
       "  </tbody>\n",
       "</table>\n",
       "</div>"
      ],
      "text/plain": [
       "   Year  Quarter Area of Residence       Reason for Journey  \\\n",
       "0  2012        1     All Countries  All reasons for journey   \n",
       "1  2012        2     All Countries  All reasons for journey   \n",
       "2  2012        3     All Countries  All reasons for journey   \n",
       "3  2012        4     All Countries  All reasons for journey   \n",
       "4  2013        1     All Countries  All reasons for journey   \n",
       "\n",
       "   Avg Length of Stay  Expenditure  Overseas Trip Percentage  Total Trips  \\\n",
       "0                 6.8        483.0                     100.0      1165100   \n",
       "1                 7.0        816.0                     100.0      1817300   \n",
       "2                 8.1        994.0                     100.0      2096700   \n",
       "3                 7.2        622.0                     100.0      1438000   \n",
       "4                 6.7        541.0                     100.0      1251700   \n",
       "\n",
       "   Number of Trips  Season  \n",
       "0        1165100.0  Winter  \n",
       "1        1817300.0  Spring  \n",
       "2        2096700.0  Summer  \n",
       "3        1438000.0  Autumn  \n",
       "4        1251700.0  Winter  "
      ]
     },
     "execution_count": 62,
     "metadata": {},
     "output_type": "execute_result"
    }
   ],
   "source": [
    "merged_data.head()"
   ]
  },
  {
   "cell_type": "code",
   "execution_count": null,
   "id": "240f9656-a32c-4d34-b459-577b93b45559",
   "metadata": {},
   "outputs": [],
   "source": []
  }
 ],
 "metadata": {
  "kernelspec": {
   "display_name": "Python 3 (ipykernel)",
   "language": "python",
   "name": "python3"
  },
  "language_info": {
   "codemirror_mode": {
    "name": "ipython",
    "version": 3
   },
   "file_extension": ".py",
   "mimetype": "text/x-python",
   "name": "python",
   "nbconvert_exporter": "python",
   "pygments_lexer": "ipython3",
   "version": "3.12.7"
  }
 },
 "nbformat": 4,
 "nbformat_minor": 5
}
